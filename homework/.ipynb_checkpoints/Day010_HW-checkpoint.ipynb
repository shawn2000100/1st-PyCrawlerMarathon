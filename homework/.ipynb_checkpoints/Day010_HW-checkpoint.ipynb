{
 "cells": [
  {
   "cell_type": "markdown",
   "metadata": {},
   "source": [
    "# 其他工具：Grab、PyQuery\n",
    "\n",
    "\n",
    "* 利用 Grab 套件的存取 HTML 資源\n",
    "* 利用 PyQuery 套件的解析 HTML 格式\n"
   ]
  },
  {
   "cell_type": "markdown",
   "metadata": {},
   "source": [
    "## 作業目標\n",
    "\n",
    "將之前用 requests + beatifulsoup 實作的方式，改寫成 grab + pyquery，並且比較有哪些地方不同。\n",
    "\n",
    "\n",
    "\n"
   ]
  },
  {
   "cell_type": "markdown",
   "metadata": {},
   "source": [
    "## requests + BeautifulSoup\n"
   ]
  },
  {
   "cell_type": "code",
   "execution_count": 24,
   "metadata": {},
   "outputs": [
    {
     "name": "stdout",
     "output_type": "stream",
     "text": [
      "Save image downloads/Cgb5oo1.jpeg\n",
      "Save image downloads/MgjHY4f.jpeg\n",
      "Save image downloads/yeoRtAs.jpeg\n",
      "Save image downloads/wsauNEW.jpeg\n",
      "Save image downloads/IjiETcs.jpeg\n"
     ]
    }
   ],
   "source": [
    "import requests\n",
    "import os\n",
    "\n",
    "from bs4 import BeautifulSoup\n",
    "from PIL import Image\n",
    "\n",
    "url = 'https://www.ptt.cc/bbs/Beauty/M.1556291059.A.75A.html'\n",
    "resp = requests.get(url, cookies={'over18': '1'})\n",
    "soup = BeautifulSoup(resp.text)\n",
    "\n",
    "# 決定要儲存的資料夾\n",
    "output_dir = 'downloads'\n",
    "\n",
    "# 假如資料夾不存在就新增一個資料夾\n",
    "if not os.path.exists(output_dir):\n",
    "    os.makedirs(output_dir)\n",
    "\n",
    "# 定位所有圖片的 tag\n",
    "image_tags = soup.find(id='main-content').findChildren('a', recursive=False)\n",
    "for img_tag in image_tags:\n",
    "    # 取得所有圖片在第三方服務的 id\n",
    "    if 'imgur' not in img_tag['href']:\n",
    "        continue\n",
    "    \n",
    "    img_id = img_tag['href'].split('/')[-1]\n",
    "    \n",
    "    # 組合圖片而非網站的網址\n",
    "    img_url = 'http://i.imgur.com/{}.jpg'.format(img_id)\n",
    "    \n",
    "    # 對圖片送出請求\n",
    "    with requests.get(img_url, stream=True) as r:\n",
    "        if not r.raise_for_status():\n",
    "            # 檢查圖片副檔名\n",
    "            img = Image.open(r.raw)\n",
    "            img_savename = '{outdir}/{img_id}.{img_ext}'.format(\n",
    "                outdir=output_dir, img_id=img_id, img_ext=img.format.lower())\n",
    "            img.save(img_savename)\n",
    "            print('Save image {}'.format(img_savename))"
   ]
  },
  {
   "cell_type": "markdown",
   "metadata": {},
   "source": [
    "## Grab + PyQuery"
   ]
  },
  {
   "cell_type": "code",
   "execution_count": 61,
   "metadata": {
    "scrolled": false
   },
   "outputs": [],
   "source": [
    "import os\n",
    "from grab import Grab\n",
    "from pyquery import PyQuery as pq\n",
    "from PIL import Image\n",
    "\n",
    "g = Grab()\n",
    "g.setup(cookies={'over18': '1'})\n",
    "resp = g.go('https://www.ptt.cc/bbs/Beauty/M.1556291059.A.75A.html')\n",
    "doc = pq(resp.body)"
   ]
  },
  {
   "cell_type": "code",
   "execution_count": 62,
   "metadata": {},
   "outputs": [],
   "source": [
    "# 決定要儲存的資料夾\n",
    "output_dir = 'downloads'\n",
    "\n",
    "# 假如資料夾不存在就新增一個資料夾\n",
    "if not os.path.exists(output_dir):\n",
    "    os.makedirs(output_dir)\n",
    "\n",
    "# 定位所有圖片的 tag\n",
    "image_tags = doc('#main-content')"
   ]
  },
  {
   "cell_type": "code",
   "execution_count": 63,
   "metadata": {},
   "outputs": [
    {
     "data": {
      "text/plain": [
       "[<div#main-content.bbs-screen.bbs-content>]"
      ]
     },
     "execution_count": 63,
     "metadata": {},
     "output_type": "execute_result"
    }
   ],
   "source": [
    "image_tags"
   ]
  },
  {
   "cell_type": "code",
   "execution_count": 76,
   "metadata": {},
   "outputs": [
    {
     "name": "stdout",
     "output_type": "stream",
     "text": [
      "['https://imgur.com/Cgb5oo1.jpg', 'https://imgur.com/MgjHY4f.jpg', 'https://imgur.com/yeoRtAs.jpg', 'https://imgur.com/wsauNEW.jpg', 'https://imgur.com/IjiETcs.jpg']\n"
     ]
    }
   ],
   "source": [
    "image_list = image_tags('a').text()\n",
    "\n",
    "link = []\n",
    "for i in image_list.split(' '):\n",
    "    i = i.strip()\n",
    "    if 'imgur' in i:\n",
    "        img_url = i + '.jpg'\n",
    "        link.append(img_url)\n",
    "print(link)"
   ]
  },
  {
   "cell_type": "code",
   "execution_count": 79,
   "metadata": {},
   "outputs": [
    {
     "name": "stdout",
     "output_type": "stream",
     "text": [
      "Cgb5oo1.jpg\n",
      "Save image downloads/Cgb5oo1.jpg.jpeg\n",
      "MgjHY4f.jpg\n",
      "Save image downloads/MgjHY4f.jpg.jpeg\n",
      "yeoRtAs.jpg\n",
      "Save image downloads/yeoRtAs.jpg.jpeg\n",
      "wsauNEW.jpg\n",
      "Save image downloads/wsauNEW.jpg.jpeg\n",
      "IjiETcs.jpg\n",
      "Save image downloads/IjiETcs.jpg.jpeg\n"
     ]
    }
   ],
   "source": [
    "from io import BytesIO\n",
    "for u in link:\n",
    "    img = g.go(u).body\n",
    "    img = Image.open(BytesIO(img))\n",
    "    \n",
    "    name = u.split('/')[-1]\n",
    "    print(name)\n",
    "    \n",
    "    img_savename = '{outdir}/{name}.{format}'.format(\n",
    "                outdir=output_dir, name=name, format=img.format.lower())\n",
    "    img.save(img_savename)\n",
    "    print('Save image {}'.format(img_savename))"
   ]
  }
 ],
 "metadata": {
  "kernelspec": {
   "display_name": "Python 3",
   "language": "python",
   "name": "python3"
  },
  "language_info": {
   "codemirror_mode": {
    "name": "ipython",
    "version": 3
   },
   "file_extension": ".py",
   "mimetype": "text/x-python",
   "name": "python",
   "nbconvert_exporter": "python",
   "pygments_lexer": "ipython3",
   "version": "3.7.3"
  }
 },
 "nbformat": 4,
 "nbformat_minor": 2
}
