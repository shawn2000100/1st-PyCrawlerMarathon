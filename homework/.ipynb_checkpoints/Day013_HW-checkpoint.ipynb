{
 "cells": [
  {
   "cell_type": "markdown",
   "metadata": {},
   "source": [
    "# PTT 網路爬蟲實作練習\n",
    "\n",
    "\n",
    "* 能夠利用 Request + BeatifulSour 撰寫爬蟲，並存放到合適的資料結構\n"
   ]
  },
  {
   "cell_type": "markdown",
   "metadata": {},
   "source": [
    "## 作業目標\n",
    "\n",
    "根據範例 ，完成以下問題：\n",
    "\n",
    "* ① 印出最新文章的「作者」「標題」「時間」\n",
    "* ② 印出第一頁所有文章的「作者」「標題」「時間」\n"
   ]
  },
  {
   "cell_type": "markdown",
   "metadata": {},
   "source": [
    "### ① 印出最新文章的「作者」「標題」「時間」"
   ]
  },
  {
   "cell_type": "code",
   "execution_count": 13,
   "metadata": {},
   "outputs": [],
   "source": [
    "import requests\n",
    "from bs4 import BeautifulSoup\n",
    "\n",
    "url = 'https://www.ptt.cc/bbs/NBA/index.html'\n",
    "r = requests.get(url)\n",
    "\n",
    "soup = BeautifulSoup(r.text, \"html5lib\")"
   ]
  },
  {
   "cell_type": "code",
   "execution_count": 14,
   "metadata": {},
   "outputs": [
    {
     "name": "stdout",
     "output_type": "stream",
     "text": [
      "ColeNorris\n",
      "[討論] 快艇跟湖人哪一隊打公鹿比較有勝算\n",
      "12/20\n"
     ]
    }
   ],
   "source": [
    "first = soup.find(class_='r-ent')\n",
    "print(first.find(class_='author').text.strip())\n",
    "print(first.find(class_='title').text.strip())\n",
    "print(first.find(class_='date').text.strip())"
   ]
  },
  {
   "cell_type": "markdown",
   "metadata": {},
   "source": [
    "### ② 印出第一頁所有文章的「作者」「標題」「時間」"
   ]
  },
  {
   "cell_type": "code",
   "execution_count": 15,
   "metadata": {},
   "outputs": [
    {
     "name": "stdout",
     "output_type": "stream",
     "text": [
      "ColeNorris\n",
      "[討論] 快艇跟湖人哪一隊打公鹿比較有勝算\n",
      "12/20\n",
      "-\n",
      "(本文已被刪除) <joebryant>\n",
      "12/20\n",
      "thnlkj0665\n",
      "[情報] LeBron James 生涯助攻數升至史上第九名\n",
      "12/20\n",
      "humbler\n",
      "[討論] 活塞當初為何沒留下Dinwiddie？\n",
      "12/20\n",
      "andy82116\n",
      "[外絮] Wade：我和Riley關係不錯，可能會回球隊\n",
      "12/20\n",
      "seabox\n",
      "[討論] 火箭明明還是很強 卻不算奪冠熱門？\n",
      "12/20\n",
      "Max11\n",
      "Re: [討論] 活塞當初為何沒留下Dinwiddie？\n",
      "12/20\n",
      "Israfil\n",
      "[花邊] 最喜歡的隊友名單 韋德沒有點到詹姆斯\n",
      "12/20\n",
      "Rambo\n",
      "[BOX ] Rockets 122:117 Clippers 數據\n",
      "12/20\n",
      "a78998042a\n",
      "[情報] NBA Standings (Dec. 20, 2019)\n",
      "12/20\n",
      "VeryGoodBoy\n",
      "[情報] Harden自馬刺賽後  場均罰球只有8.1顆\n",
      "12/20\n",
      "dro001\n",
      "Re: [討論] 火箭明明還是很強 卻不算奪冠熱門？\n",
      "12/20\n",
      "s27052705\n",
      "[花邊] 字母哥：我不是狀元，我本不被人們認為\n",
      "12/20\n",
      "jjjSam69\n",
      "[新聞] 「勇士迷突然消失」里拉德覺得好怪　拓\n",
      "12/20\n",
      "ghost069\n",
      "[討論] 火箭快艇是現在最好看的對戰組合嗎\n",
      "12/20\n",
      "love41333\n",
      "[新聞] 老鷹連敗釀內部風暴 美媒惋惜林書豪等舊\n",
      "12/20\n",
      "NSYSUheng\n",
      "[情報] Rondo談KG言論：我愛LBJ，他是我最愛的隊\n",
      "12/20\n",
      "whoAU\n",
      "[情報] 湖人自本月以來就沒有舉行過正式訓練\n",
      "12/20\n",
      "whoAU\n",
      "[花邊] Wade談同志小兒子：他比我有力量和勇氣\n",
      "12/20\n",
      "kairiyu\n",
      "[情報] 勇士老闆：12年選秀大會時，我的老婆讓我一定要選嘴綠\n",
      "12/20\n",
      "Vedan\n",
      "[公告] 板規v6.7\n",
      "5/24\n",
      "Vedan\n",
      "[公告] 樂透取消及未來不再開啟樂透\n",
      "6/24\n",
      "qazwsx879345\n",
      "[公告] 版主上任相關事項\n",
      "10/25\n",
      "JerroLi\n",
      "[情報] SEASON Schedule 賽程 December 19–20\n",
      "11/29\n",
      "dragon803\n",
      "[公告] 是否禁止記者鄭廷瑋文章投票開始\n",
      "12/16\n"
     ]
    }
   ],
   "source": [
    "arts = soup.find_all(class_='r-ent')\n",
    "for art in arts:\n",
    "    print(art.find(class_='author').text.strip())\n",
    "    print(art.find(class_='title').text.strip())\n",
    "    print(art.find(class_='date').text.strip())"
   ]
  },
  {
   "cell_type": "markdown",
   "metadata": {},
   "source": [
    "### ③ 試著爬爬看其他版的文章"
   ]
  },
  {
   "cell_type": "code",
   "execution_count": 24,
   "metadata": {},
   "outputs": [
    {
     "name": "stdout",
     "output_type": "stream",
     "text": [
      "作者: lion0126 (ettalfopuca)\n",
      "作者: JRanDer (最軟der那塊)\n",
      "作者: lonkeyhomgun (無才無德菸草太宰治)\n",
      "作者: sexkingman (尋找直子的渡邊)\n",
      "作者: hungsasa (洪香菇)\n",
      "作者: iammiss (未完的承諾)\n",
      "作者: UNIQC (赭紅)\n",
      "作者: mimicoido16 (mimicoido16)\n",
      "作者: Uingu (雲古)\n",
      "作者: newdreams (大頭)\n",
      "作者: FallRed (☆╮落紅a圓仔╭㊣)\n",
      "作者: Assisi (Francesco d'Assisi)\n",
      "作者: Assisi (Francesco d'Assisi)\n"
     ]
    }
   ],
   "source": [
    "import requests\n",
    "from bs4 import BeautifulSoup\n",
    "\n",
    "url = 'https://www.ptt.cc/bbs/sex/index.html'\n",
    "r = requests.get(url, cookies={'over18': '1'})\n",
    "soup = BeautifulSoup(r.text, \"html5lib\")\n",
    "\n",
    "for d in soup.find_all(class_=\"title\"):\n",
    "    try:\n",
    "        r = BeautifulSoup(requests.get('https://www.ptt.cc' + d.find('a')['href'], cookies={'over18': '1'}).text, \"html5lib\")\n",
    "        print('作者: ' + r.find(class_='article-meta-value').text)\n",
    "    except:\n",
    "        continue\n"
   ]
  },
  {
   "cell_type": "code",
   "execution_count": null,
   "metadata": {},
   "outputs": [],
   "source": []
  }
 ],
 "metadata": {
  "kernelspec": {
   "display_name": "Python 3",
   "language": "python",
   "name": "python3"
  },
  "language_info": {
   "codemirror_mode": {
    "name": "ipython",
    "version": 3
   },
   "file_extension": ".py",
   "mimetype": "text/x-python",
   "name": "python",
   "nbconvert_exporter": "python",
   "pygments_lexer": "ipython3",
   "version": "3.7.3"
  }
 },
 "nbformat": 4,
 "nbformat_minor": 2
}
